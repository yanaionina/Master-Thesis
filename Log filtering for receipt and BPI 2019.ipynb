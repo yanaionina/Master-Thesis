{
 "cells": [
  {
   "cell_type": "code",
   "execution_count": null,
   "id": "b093c45a",
   "metadata": {},
   "outputs": [],
   "source": [
    "#Filtering on k variants for receipt\n",
    "\n",
    "import pm4py\n",
    "\n",
    "dataframe = pm4py.read_xes(\"C:/Users/I559643/Documents/Thesis/Models and Logs/receipt/receipt.xes\")\n",
    "variants = pm4py.filter_variants_top_k(dataframe, 4, activity_key='concept:name', timestamp_key='time:timestamp', case_id_key='case:concept:name')\n",
    "pm4py.write_xes(variants, \"C:/Users/I559643/Documents/Thesis/Models and Logs/receipt/receipt_filtered.xes\")"
   ]
  },
  {
   "cell_type": "code",
   "execution_count": null,
   "id": "2a312aa4",
   "metadata": {},
   "outputs": [],
   "source": [
    "#Filtering on k variants for BPI 2019\n",
    "\n",
    "dataframe = pm4py.read_xes(\"C:/Users/I559643/Documents/Thesis/Models and Logs/BPI 2019/BPI_Challenge_2019.xes\")\n",
    "variants = pm4py.filter_variants_top_k(dataframe, 4, activity_key='concept:name', timestamp_key='time:timestamp', case_id_key='case:concept:name')\n",
    "#print(variants)\n",
    "pm4py.write_xes(variants, \"C:/Users/I559643/Documents/Thesis/Models and Logs/BPI 2019/BPI_Challenge_2019_filtred.xes\")"
   ]
  }
 ],
 "metadata": {
  "kernelspec": {
   "display_name": "Python 3 (ipykernel)",
   "language": "python",
   "name": "python3"
  },
  "language_info": {
   "codemirror_mode": {
    "name": "ipython",
    "version": 3
   },
   "file_extension": ".py",
   "mimetype": "text/x-python",
   "name": "python",
   "nbconvert_exporter": "python",
   "pygments_lexer": "ipython3",
   "version": "3.9.12"
  }
 },
 "nbformat": 4,
 "nbformat_minor": 5
}
